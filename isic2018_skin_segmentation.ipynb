{
  "nbformat": 4,
  "nbformat_minor": 0,
  "metadata": {
    "colab": {
      "provenance": [],
      "gpuType": "T4"
    },
    "kernelspec": {
      "name": "python3",
      "display_name": "Python 3"
    },
    "language_info": {
      "name": "python"
    },
    "accelerator": "GPU"
  },
  "cells": [
    {
      "cell_type": "code",
      "execution_count": null,
      "metadata": {
        "id": "_AhZJi1hHucO"
      },
      "outputs": [],
      "source": [
        "from google.colab import drive\n",
        "drive.mount('/content/drive')"
      ]
    },
    {
      "cell_type": "code",
      "source": [
        "!pip install -q torch torchvision\n",
        "!pip install -q segmentation-models-pytorch albumentations\n",
        "!apt-get update -qq && apt-get install -qq aria2"
      ],
      "metadata": {
        "id": "WELGvJwJIDCU"
      },
      "execution_count": null,
      "outputs": []
    },
    {
      "cell_type": "code",
      "source": [
        "import os\n",
        "\n",
        "# Change this to wherever you’d like in your Drive\n",
        "DRIVE_DATA_DIR = \"/content/drive/MyDrive/isic2018\"\n",
        "\n",
        "# Create folders if they don’t exist\n",
        "os.makedirs(os.path.join(DRIVE_DATA_DIR, \"images\"), exist_ok=True)\n",
        "os.makedirs(os.path.join(DRIVE_DATA_DIR, \"masks\"),  exist_ok=True)"
      ],
      "metadata": {
        "id": "GYt840BiIn-R"
      },
      "execution_count": null,
      "outputs": []
    },
    {
      "cell_type": "code",
      "source": [
        "from zipfile import ZipFile\n",
        "from pathlib import Path\n",
        "import subprocess\n",
        "\n",
        "# URLs\n",
        "IMG_URL  = \"https://isic-challenge-data.s3.amazonaws.com/2018/ISIC2018_Task1-2_Training_Input.zip\"\n",
        "MSK_URL  = \"https://isic-challenge-data.s3.amazonaws.com/2018/ISIC2018_Task1_Training_GroundTruth.zip\"\n",
        "\n",
        "# Paths on Drive\n",
        "zip_img_drive = f\"{DRIVE_DATA_DIR}/ISIC2018_Task1-2_Training_Input.zip\"\n",
        "zip_msk_drive = f\"{DRIVE_DATA_DIR}/ISIC2018_Task1_Training_GroundTruth.zip\"\n",
        "\n",
        "# Download if missing\n",
        "if not Path(zip_img_drive).exists():\n",
        "    subprocess.run([\"aria2c\", \"-x16\", \"-d\", DRIVE_DATA_DIR, IMG_URL], check=True)\n",
        "if not Path(zip_msk_drive).exists():\n",
        "    subprocess.run([\"aria2c\", \"-x16\", \"-d\", DRIVE_DATA_DIR, MSK_URL], check=True)\n",
        "\n",
        "# Unzip if folders empty\n",
        "img_folder = Path(f\"{DRIVE_DATA_DIR}/images\")\n",
        "if not any(img_folder.iterdir()):\n",
        "    with ZipFile(zip_img_drive, 'r') as z: z.extractall(img_folder)\n",
        "msk_folder = Path(f\"{DRIVE_DATA_DIR}/masks\")\n",
        "if not any(msk_folder.iterdir()):\n",
        "    with ZipFile(zip_msk_drive, 'r') as z: z.extractall(msk_folder)"
      ],
      "metadata": {
        "id": "xTiBulcNINN6"
      },
      "execution_count": null,
      "outputs": []
    },
    {
      "cell_type": "code",
      "source": [
        "!mkdir -p \"/content/drive/MyDrive/Colab Notebooks\"\n",
        "!mv \"/content/drive/MyDrive/isic2018\" \"/content/drive/MyDrive/Colab Notebooks/\"\n"
      ],
      "metadata": {
        "id": "mFuy8HWwi2mJ"
      },
      "execution_count": null,
      "outputs": []
    },
    {
      "cell_type": "code",
      "source": [
        "import os\n",
        "import pandas as pd\n",
        "\n",
        "# Base Drive folder\n",
        "BASE = \"/content/drive/MyDrive/Colab Notebooks/isic2018\"\n",
        "\n",
        "# Find the actual image & mask sub-folders automatically:\n",
        "img_root = os.path.join(BASE, \"images\")\n",
        "mask_root = os.path.join(BASE, \"masks\")\n",
        "\n",
        "# There should be exactly one directory in each:\n",
        "img_sub = next(d for d in os.listdir(img_root)  if os.path.isdir(os.path.join(img_root, d)))\n",
        "msk_sub = next(d for d in os.listdir(mask_root) if os.path.isdir(os.path.join(mask_root, d)))\n",
        "\n",
        "IMG_DIR = os.path.join(img_root,  img_sub)\n",
        "MSK_DIR = os.path.join(mask_root, msk_sub)\n",
        "\n",
        "print(\"Images in:\", IMG_DIR)\n",
        "print(\"Masks in: \", MSK_DIR)\n",
        "\n",
        "# Now collect IDs\n",
        "ids = [os.path.splitext(f)[0] for f in os.listdir(IMG_DIR) if f.lower().endswith(\".jpg\")]\n",
        "\n",
        "# Build DataFrame\n",
        "df = pd.DataFrame({\n",
        "    \"id\":         ids,\n",
        "    \"image_path\": [os.path.join(IMG_DIR, id + \".jpg\")            for id in ids],\n",
        "    \"mask_path\":  [os.path.join(MSK_DIR, id + \"_segmentation.png\") for id in ids]\n",
        "})\n",
        "\n",
        "# Quick existence sanity check\n",
        "print(\"\\nExistence check (first 5):\")\n",
        "for p in df.image_path[:5]:\n",
        "    print(p, \"→\", os.path.exists(p))\n",
        "for p in df.mask_path[:5]:\n",
        "    print(p, \"→\", os.path.exists(p))\n",
        "\n",
        "df.head()"
      ],
      "metadata": {
        "id": "oOitnOzIK9ai"
      },
      "execution_count": null,
      "outputs": []
    },
    {
      "cell_type": "code",
      "source": [
        "from sklearn.model_selection import train_test_split\n",
        "\n",
        "train_df, val_df = train_test_split(\n",
        "    df,\n",
        "    test_size=0.2,\n",
        "    random_state=42,\n",
        "    shuffle=True\n",
        ")\n",
        "\n",
        "print(f\"Training samples:   {len(train_df)}\")\n",
        "print(f\"Validation samples: {len(val_df)}\")"
      ],
      "metadata": {
        "id": "7dYMzFx1jpUh"
      },
      "execution_count": null,
      "outputs": []
    },
    {
      "cell_type": "code",
      "source": [
        "import torch\n",
        "from torch.utils.data import Dataset, DataLoader\n",
        "import albumentations as A\n",
        "from albumentations.pytorch import ToTensorV2\n",
        "import numpy as np\n",
        "from PIL import Image\n",
        "\n",
        "# Define transforms\n",
        "train_transforms = A.Compose([\n",
        "    A.Resize(256, 256),\n",
        "    A.HorizontalFlip(p=0.5),\n",
        "    A.Normalize(),          # mean=0.0, std=1.0 by default\n",
        "    ToTensorV2()\n",
        "])\n",
        "val_transforms = A.Compose([\n",
        "    A.Resize(256, 256),\n",
        "    A.Normalize(),\n",
        "    ToTensorV2()\n",
        "])\n",
        "\n",
        "class SkinSegDataset(Dataset):\n",
        "    def __init__(self, df, transforms):\n",
        "        self.df = df.reset_index(drop=True)\n",
        "        self.transforms = transforms\n",
        "\n",
        "    def __len__(self):\n",
        "        return len(self.df)\n",
        "\n",
        "    def __getitem__(self, idx):\n",
        "        row = self.df.iloc[idx]\n",
        "        # Load image and mask\n",
        "        img = np.array(Image.open(row.image_path).convert(\"RGB\"))\n",
        "        msk = np.array(Image.open(row.mask_path).convert(\"L\")) // 255  # binary 0/1\n",
        "\n",
        "        # Apply transforms\n",
        "        augmented = self.transforms(image=img, mask=msk)\n",
        "        image = augmented[\"image\"]\n",
        "        mask  = augmented[\"mask\"].unsqueeze(0).float()  # add channel dim\n",
        "\n",
        "        return image, mask\n",
        "\n",
        "# Create datasets\n",
        "train_ds = SkinSegDataset(train_df, train_transforms)\n",
        "val_ds   = SkinSegDataset(val_df,   val_transforms)\n",
        "\n",
        "# Create loaders\n",
        "train_loader = DataLoader(train_ds, batch_size=8, shuffle=True,  num_workers=2, pin_memory=True)\n",
        "val_loader   = DataLoader(val_ds,   batch_size=8, shuffle=False, num_workers=2, pin_memory=True)\n",
        "\n",
        "# Sanity check a batch\n",
        "images, masks = next(iter(train_loader))\n",
        "print(\"Batch image shape:\", images.shape)  # e.g. [8, 3, 256, 256]\n",
        "print(\"Batch mask  shape:\", masks.shape)   # e.g. [8, 1, 256, 256]"
      ],
      "metadata": {
        "id": "twhEZ0GV_QRi"
      },
      "execution_count": null,
      "outputs": []
    },
    {
      "cell_type": "code",
      "source": [
        "import torch\n",
        "import segmentation_models_pytorch as smp\n",
        "\n",
        "# Choose device\n",
        "device = torch.device(\"cuda\" if torch.cuda.is_available() else \"cpu\")\n",
        "\n",
        "# Instantiate U‑Net\n",
        "model = smp.Unet(\n",
        "    encoder_name=\"resnet34\",        # choose encoder\n",
        "    encoder_weights=\"imagenet\",     # use ImageNet pretraining\n",
        "    in_channels=3,                  # input RGB images\n",
        "    classes=1,                      # output binary mask\n",
        ")\n",
        "\n",
        "model = model.to(device)\n",
        "print(model)"
      ],
      "metadata": {
        "id": "hLcYibBuJ0xv"
      },
      "execution_count": null,
      "outputs": []
    },
    {
      "cell_type": "code",
      "source": [
        "import torch.nn as nn\n",
        "import torch\n",
        "\n",
        "# Loss functions\n",
        "bce_loss  = nn.BCEWithLogitsLoss()\n",
        "dice_loss = smp.losses.DiceLoss(mode=\"binary\")\n",
        "\n",
        "def loss_fn(preds, targets):\n",
        "    return bce_loss(preds, targets) + dice_loss(preds, targets)\n",
        "\n",
        "# IoU metric\n",
        "def iou_score(preds, targets, thresh=0.5):\n",
        "    preds_bin = (torch.sigmoid(preds) > thresh).float()\n",
        "    inter = (preds_bin * targets).sum(dim=(1,2,3))\n",
        "    union = preds_bin.sum(dim=(1,2,3)) + targets.sum(dim=(1,2,3)) - inter\n",
        "    return ((inter + 1e-6) / (union + 1e-6)).mean()\n",
        "\n",
        "# Optimizer\n",
        "optimizer = torch.optim.Adam(model.parameters(), lr=1e-4)\n"
      ],
      "metadata": {
        "id": "iBAwS0Q4KvyQ"
      },
      "execution_count": null,
      "outputs": []
    },
    {
      "cell_type": "code",
      "source": [
        "from tqdm import tqdm\n",
        "import torch\n",
        "import os\n",
        "\n",
        "best_iou = 0.0\n",
        "num_epochs = 10\n",
        "\n",
        "train_losses, val_losses, val_ious = [], [], []\n",
        "\n",
        "for epoch in range(1, num_epochs+1):\n",
        "    # ——— Training ———\n",
        "    model.train()\n",
        "    train_loss = 0.0\n",
        "    for imgs, masks in tqdm(train_loader, desc=f\"Epoch {epoch} [Train]\"):\n",
        "        imgs, masks = imgs.to(device), masks.to(device)\n",
        "        optimizer.zero_grad()\n",
        "        preds = model(imgs)\n",
        "        loss = loss_fn(preds, masks)\n",
        "        loss.backward()\n",
        "        optimizer.step()\n",
        "        train_loss += loss.item()\n",
        "    train_loss /= len(train_loader)\n",
        "\n",
        "    # ——— Validation ———\n",
        "    model.eval()\n",
        "    val_loss, val_iou = 0.0, 0.0\n",
        "    with torch.no_grad():\n",
        "        for imgs, masks in tqdm(val_loader, desc=f\"Epoch {epoch} [Val]\"):\n",
        "            imgs, masks = imgs.to(device), masks.to(device)\n",
        "            preds = model(imgs)\n",
        "            val_loss += loss_fn(preds, masks).item()\n",
        "            val_iou  += iou_score(preds, masks).item()\n",
        "    val_loss /= len(val_loader)\n",
        "    val_iou  /= len(val_loader)\n",
        "\n",
        "    # Checkpoint best\n",
        "    if val_iou > best_iou:\n",
        "        best_iou = val_iou\n",
        "        torch.save(model.state_dict(),\n",
        "                   \"/content/drive/MyDrive/Colab Notebooks/isic2018/best_unet.pth\")\n",
        "\n",
        "    # Log & record\n",
        "    print(f\"\\nEpoch {epoch:02d} | \"\n",
        "          f\"Train Loss: {train_loss:.4f} | \"\n",
        "          f\"Val Loss:   {val_loss:.4f} | \"\n",
        "          f\"Val IoU:    {val_iou:.4f} | \"\n",
        "          f\"Best IoU:   {best_iou:.4f}\\n\")\n",
        "    train_losses.append(train_loss)\n",
        "    val_losses.append(val_loss)\n",
        "    val_ious.append(val_iou)"
      ],
      "metadata": {
        "id": "Gq6YLYdZK3zD"
      },
      "execution_count": null,
      "outputs": []
    },
    {
      "cell_type": "code",
      "source": [
        "import matplotlib.pyplot as plt\n",
        "import os\n",
        "\n",
        "os.makedirs(\"outputs/curves\", exist_ok=True)\n",
        "\n",
        "# Loss curve\n",
        "plt.figure(figsize=(6,4))\n",
        "plt.plot(range(1, num_epochs+1), train_losses, label=\"Train Loss\")\n",
        "plt.plot(range(1, num_epochs+1), val_losses,   label=\"Val Loss\")\n",
        "plt.xlabel(\"Epoch\"); plt.ylabel(\"Loss\"); plt.legend()\n",
        "plt.title(\"Training & Validation Loss\")\n",
        "plt.savefig(\"outputs/curves/loss_curve.png\", bbox_inches=\"tight\")\n",
        "plt.close()\n",
        "\n",
        "# IoU curve\n",
        "plt.figure(figsize=(6,4))\n",
        "plt.plot(range(1, num_epochs+1), val_ious, label=\"Val IoU\")\n",
        "plt.xlabel(\"Epoch\"); plt.ylabel(\"IoU\"); plt.legend()\n",
        "plt.title(\"Validation IoU Over Epochs\")\n",
        "plt.savefig(\"outputs/curves/iou_curve.png\", bbox_inches=\"tight\")\n",
        "plt.close()"
      ],
      "metadata": {
        "id": "la895o4cNJZe"
      },
      "execution_count": null,
      "outputs": []
    },
    {
      "cell_type": "code",
      "source": [
        "import numpy as np\n",
        "from PIL import Image\n",
        "\n",
        "# Load best model weights\n",
        "model.load_state_dict(torch.load(\n",
        "    \"/content/drive/MyDrive/Colab Notebooks/isic2018/best_unet.pth\",\n",
        "    map_location=device\n",
        "))\n",
        "model.eval()\n",
        "\n",
        "# Grab one batch\n",
        "imgs, masks = next(iter(val_loader))\n",
        "imgs, masks = imgs.to(device), masks.to(device)\n",
        "\n",
        "with torch.no_grad():\n",
        "    preds = torch.sigmoid(model(imgs)) > 0.5\n",
        "\n",
        "os.makedirs(\"outputs/predictions\", exist_ok=True)\n",
        "\n",
        "# Save first 3 prediction triplets\n",
        "for i in range(3):\n",
        "    fig, axes = plt.subplots(1,3, figsize=(12,4))\n",
        "    axes[0].imshow(imgs[i].cpu().permute(1,2,0));  axes[0].axis(\"off\")\n",
        "    axes[1].imshow(masks[i,0].cpu(), cmap=\"gray\"); axes[1].axis(\"off\")\n",
        "    axes[2].imshow(preds[i,0].cpu(), cmap=\"gray\"); axes[2].axis(\"off\")\n",
        "    plt.tight_layout()\n",
        "\n",
        "    fname = f\"outputs/predictions/sample_{i}.png\"\n",
        "    fig.savefig(fname, bbox_inches=\"tight\")\n",
        "    plt.close(fig)\n",
        "    # (optional) display inline\n",
        "    display(Image.open(fname))"
      ],
      "metadata": {
        "id": "MAu7Q4bgK5WD"
      },
      "execution_count": null,
      "outputs": []
    },
    {
      "cell_type": "code",
      "source": [
        "os.makedirs(\"outputs/sample_pairs\", exist_ok=True)\n",
        "\n",
        "for idx in [0, 50, 100]:\n",
        "    row = df.iloc[idx]\n",
        "    img = np.array(Image.open(row.image_path).convert(\"RGB\"))\n",
        "    msk = np.array(Image.open(row.mask_path).convert(\"L\"))\n",
        "\n",
        "    fig, (ax1, ax2) = plt.subplots(1,2, figsize=(8,4))\n",
        "    ax1.imshow(img); ax1.set_title(f\"Image [{row.id}]\"); ax1.axis(\"off\")\n",
        "    ax2.imshow(msk, cmap=\"gray\"); ax2.set_title(f\"Mask  [{row.id}]\"); ax2.axis(\"off\")\n",
        "\n",
        "    fname = f\"outputs/sample_pairs/{row.id}.png\"\n",
        "    fig.savefig(fname, bbox_inches=\"tight\")\n",
        "    plt.close(fig)"
      ],
      "metadata": {
        "id": "wBAdKp6oM0W9"
      },
      "execution_count": null,
      "outputs": []
    },
    {
      "cell_type": "code",
      "source": [
        "!cp \"/content/drive/MyDrive/Colab Notebooks/isic2018/best_unet.pth\" /content/\n",
        "from google.colab import files\n",
        "files.download(\"best_unet.pth\")"
      ],
      "metadata": {
        "id": "IM2mY7a6NPOC"
      },
      "execution_count": null,
      "outputs": []
    }
  ]
}